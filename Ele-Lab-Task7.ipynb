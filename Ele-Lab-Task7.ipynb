{
 "cells": [
  {
   "cell_type": "code",
   "execution_count": 22,
   "id": "cbd579d5-5e1a-4094-8a1e-17144b5941ff",
   "metadata": {},
   "outputs": [
    {
     "name": "stdout",
     "output_type": "stream",
     "text": [
      "Database 'Sample_sales_data.db' created with sample data.\n"
     ]
    }
   ],
   "source": [
    "import sqlite3\n",
    "import pandas as pd\n",
    "import matplotlib.pyplot as plt\n",
    "\n",
    "#Creating a file and connecting to the SQLite database\n",
    "db_file=\"Sample_sales_data.db\"\n",
    "conn=sqlite3.connect(db_file)\n",
    "cursor=conn.cursor()\n",
    "\n",
    "#Creating SQL table\n",
    "create_table_sql=\"\"\"\n",
    "CREATE TABLE IF NOT EXISTS sales (\n",
    "    id INTEGER PRIMARY KEY,\n",
    "    product TEXT NOT NULL,\n",
    "    quantity INTEGER NOT NULL,\n",
    "    price REAL NOT NULL\n",
    ");\n",
    "\"\"\"\n",
    "\n",
    "#Sample sales data (Product, Quantity, Price)\n",
    "sales_data=[\n",
    "    ('Laptop', 20, 950.00),\n",
    "    ('Keyboard', 150, 45.00),\n",
    "    ('Monitor', 35, 250.00),\n",
    "    ('Mouse', 200, 15.00),\n",
    "    ('Laptop', 10, 950.00),\n",
    "    ('Keyboard', 50, 45.00)\n",
    "]\n",
    "\n",
    "#Executing the table creation and insert the data\n",
    "cursor.execute(create_table_sql)\n",
    "cursor.executemany(\"INSERT INTO sales (product, quantity, price) VALUES (?, ?, ?)\", sales_data)\n",
    "\n",
    "#Committing the changes\n",
    "conn.commit()\n",
    "conn.close()\n",
    "\n",
    "print(f\"Database '{db_file}' created with sample data.\")"
   ]
  },
  {
   "cell_type": "code",
   "execution_count": 23,
   "id": "78eee45c-c741-460e-85ee-0883aa68b580",
   "metadata": {},
   "outputs": [
    {
     "name": "stdout",
     "output_type": "stream",
     "text": [
      "Data successfully loaded into a pandas DataFrame.\n"
     ]
    }
   ],
   "source": [
    "# 1. Reconnect to the database\n",
    "conn = sqlite3.connect(DB_FILE)\n",
    "\n",
    "# 2. Define the SQL query for the sales summary\n",
    "# This query calculates the total quantity sold and total revenue (quantity * price)\n",
    "# for each distinct product.\n",
    "QUERY = \"\"\"\n",
    "SELECT\n",
    "    product,\n",
    "    SUM(quantity) AS total_quantity_sold,\n",
    "    SUM(quantity * price) AS total_revenue\n",
    "FROM sales\n",
    "GROUP BY product\n",
    "ORDER BY total_revenue DESC;\n",
    "\"\"\"\n",
    "\n",
    "#Loading the results into a DataFrame\n",
    "try:\n",
    "    summary_df=pd.read_sql_query(QUERY, conn)\n",
    "    print(\"Data successfully loaded into a pandas DataFrame.\")\n",
    "except pd.io.sql.DatabaseError as e:\n",
    "    print(f\"An error occurred while executing the SQL query: {e}\")\n",
    "    summary_df=None\n",
    "\n",
    "# Close the database connection\n",
    "conn.close()"
   ]
  },
  {
   "cell_type": "code",
   "execution_count": 24,
   "id": "89c7a128-ea54-4e21-b57d-c382d6f68d43",
   "metadata": {},
   "outputs": [
    {
     "name": "stdout",
     "output_type": "stream",
     "text": [
      "Sales Summary Table\n",
      "    product  total_quantity_sold  total_revenue\n",
      "0    Laptop                   30        28500.0\n",
      "1  Keyboard                  200         9000.0\n",
      "2   Monitor                   35         8750.0\n",
      "3     Mouse                  200         3000.0\n",
      "\n",
      "Totals\n",
      "Total units sold of all products: 465\n",
      "Total revenue of all products: $49,250.00\n"
     ]
    }
   ],
   "source": [
    "if summary_df is not None:\n",
    "    print(\"Sales Summary Table\")\n",
    "    print(sales_summary_df)\n",
    "\n",
    "#Summary of the sample data \n",
    "total_qty=summary_df['total_quantity_sold'].sum()\n",
    "total_revenue=summary_df['total_revenue'].sum()\n",
    "\n",
    "print(\"\\nTotals\")\n",
    "print(f\"Total units sold of all products: {total_qty}\")\n",
    "print(f\"Total revenue of all products: ${total_revenue:,.2f}\")"
   ]
  },
  {
   "cell_type": "code",
   "execution_count": 32,
   "id": "d647d2d4-c952-4a13-8436-a445ea22be0e",
   "metadata": {},
   "outputs": [
    {
     "name": "stdout",
     "output_type": "stream",
     "text": [
      "\n",
      "Bar Chart\n",
      "Chart saved as 'sales_revenue_chart.png'.\n"
     ]
    },
    {
     "data": {
      "image/png": "[encoded data removed]",
      "text/plain": [
       "<Figure size 800x500 with 1 Axes>"
      ]
     },
     "metadata": {},
     "output_type": "display_data"
    }
   ],
   "source": [
    "print(\"\\nBar Chart\")\n",
    "#Using the pandas plot method\n",
    "ax=sales_summary_df.plot(kind='bar', x='product', y='total_revenue', legend=False, color='pink', figsize=(8, 5))\n",
    "\n",
    "#Creating the bar plot\n",
    "plt.title('Total Revenue by Product')\n",
    "plt.xlabel('Product')\n",
    "plt.ylabel('Total Revenue ($)')\n",
    "plt.grid(False)\n",
    "\n",
    "#Saving the chart\n",
    "chart_file=\"sales_revenue_chart.png\"\n",
    "plt.savefig(chart_file)\n",
    "print(f\"Chart saved as '{chart_file}'.\")\n",
    "plt.show()"
   ]
  },
  {
   "cell_type": "code",
   "execution_count": null,
   "id": "952a5781-7f3c-4394-8b33-e114ceaf96f0",
   "metadata": {},
   "outputs": [],
   "source": []
  }
 ],
 "metadata": {
  "kernelspec": {
   "display_name": "Python [conda env:base] *",
   "language": "python",
   "name": "conda-base-py"
  },
  "language_info": {
   "codemirror_mode": {
    "name": "ipython",
    "version": 3
   },
   "file_extension": ".py",
   "mimetype": "text/x-python",
   "name": "python",
   "nbconvert_exporter": "python",
   "pygments_lexer": "ipython3",
   "version": "3.12.7"
  }
 },
 "nbformat": 4,
 "nbformat_minor": 5
}
